{
  "nbformat": 4,
  "nbformat_minor": 0,
  "metadata": {
    "colab": {
      "provenance": [],
      "include_colab_link": true
    },
    "kernelspec": {
      "name": "python3",
      "display_name": "Python 3"
    },
    "language_info": {
      "name": "python"
    }
  },
  "cells": [
    {
      "cell_type": "markdown",
      "metadata": {
        "id": "view-in-github",
        "colab_type": "text"
      },
      "source": [
        "<a href=\"https://colab.research.google.com/github/JaviARo/Actividad-3.1/blob/main/JavierAlemanRodriguez_Act_3_1_Metricas_de_error.ipynb\" target=\"_parent\"><img src=\"https://colab.research.google.com/assets/colab-badge.svg\" alt=\"Open In Colab\"/></a>"
      ]
    },
    {
      "cell_type": "markdown",
      "source": [
        "Javier Alemán Rodríguez"
      ],
      "metadata": {
        "id": "UQNxf2Re2lkP"
      }
    },
    {
      "cell_type": "markdown",
      "source": [
        "23_24\n",
        "\n",
        "Actividad 3.1 - Métricas de error para los problemas de regresión\n",
        "\n",
        "A partir de los ejemplos indicados realizar los ejercicios propuestos"
      ],
      "metadata": {
        "id": "irnc2RYVuYVU"
      }
    },
    {
      "cell_type": "code",
      "execution_count": null,
      "metadata": {
        "colab": {
          "base_uri": "https://localhost:8080/"
        },
        "id": "jVLFdfzxdsfG",
        "outputId": "60613cad-4a26-479b-ab39-e06e696c7b4b"
      },
      "outputs": [
        {
          "output_type": "execute_result",
          "data": {
            "text/plain": [
              "0.0"
            ]
          },
          "metadata": {},
          "execution_count": 1
        }
      ],
      "source": [
        "#Error absoluto medio - mae\n",
        "from sklearn.metrics import mean_absolute_error\n",
        "# Ejemplo 1\n",
        "y_true = [2.5, 0, 2, 8]\n",
        "y_pred = [2.5, 0, 2, 8]\n",
        "mean_absolute_error(y_true, y_pred)\n"
      ]
    },
    {
      "cell_type": "code",
      "source": [
        "# Ejer 1: Crear dos vectores/arrays de valores ciertos y valores previstos, y calcular el mae.\n",
        "# ¿Qué valores deberían de tener el array pred para que el error fuese 0? ¿y para que error fuese de 0.25?\n",
        "y_true = [28, 12, 5, 31.2]\n",
        "y_pred = [28, 9, 5, 31.2]\n",
        "mae = mean_absolute_error(y_true, y_pred)\n",
        "print(f\"y_true: {y_true}\\ny_pred: {y_pred}\\nmae: {mae}\")\n",
        "\n",
        "print(\"\\n----------- Error = 0 -----------\")\n",
        "y_true = [28, 12, 5, 31.2]\n",
        "y_pred = [28, 12, 5, 31.2]\n",
        "mae = mean_absolute_error(y_true, y_pred)\n",
        "print(f\"y_true: {y_true}\\ny_pred: {y_pred}\\nmae: {mae}\")\n",
        "\n",
        "print(\"\\n--------- Error = 0.25 ----------\")\n",
        "print(\"------------ Caso 1 -------------\")\n",
        "y_true = [28, 12, 5, 31.2]\n",
        "y_pred = [28, 11, 5, 31.2] # Se le restó una unidad al segundo elemento del vector\n",
        "mae = mean_absolute_error(y_true, y_pred)\n",
        "print(f\"y_true: {y_true}\\ny_pred: {y_pred}\\nmae: {mae}\")\n",
        "print(\"------------ Caso 2 -------------\")\n",
        "y_true = [28, 12, 5, 31.2]\n",
        "y_pred = [28, 11.5, 5.5, 31.2] # Se le restó y sumó media unidad al segundo y tercer elemento del vector respectivamente\n",
        "mae = mean_absolute_error(y_true, y_pred)\n",
        "print(f\"y_true: {y_true}\\ny_pred: {y_pred}\\nmae: {mae}\")"
      ],
      "metadata": {
        "id": "67XK1bXegMai",
        "outputId": "ea9daea9-ffff-41c8-8fec-598fe118c158",
        "colab": {
          "base_uri": "https://localhost:8080/"
        }
      },
      "execution_count": null,
      "outputs": [
        {
          "output_type": "stream",
          "name": "stdout",
          "text": [
            "y_true: [28, 12, 5, 31.2]\n",
            "y_pred: [28, 9, 5, 31.2]\n",
            "mae: 0.75\n",
            "\n",
            "----------- Error = 0 -----------\n",
            "y_true: [28, 12, 5, 31.2]\n",
            "y_pred: [28, 12, 5, 31.2]\n",
            "mae: 0.0\n",
            "\n",
            "--------- Error = 0.25 ----------\n",
            "------------ Caso 1 -------------\n",
            "y_true: [28, 12, 5, 31.2]\n",
            "y_pred: [28, 11, 5, 31.2]\n",
            "mae: 0.25\n",
            "------------ Caso 2 -------------\n",
            "y_true: [28, 12, 5, 31.2]\n",
            "y_pred: [28, 11.5, 5.5, 31.2]\n",
            "mae: 0.25\n"
          ]
        }
      ]
    },
    {
      "cell_type": "code",
      "source": [
        "# Ejemplo 2\n",
        "y_true = [[0.5, 1], [-1, 1], [7, -6]]\n",
        "y_pred = [[0, 2], [-1, 2], [8, -5]]\n",
        "mean_absolute_error(y_true, y_pred)"
      ],
      "metadata": {
        "id": "3LhzsD30f60T",
        "colab": {
          "base_uri": "https://localhost:8080/"
        },
        "outputId": "4f1132d4-ffdc-491d-c823-5eb8c10784c0"
      },
      "execution_count": null,
      "outputs": [
        {
          "output_type": "execute_result",
          "data": {
            "text/plain": [
              "0.75"
            ]
          },
          "metadata": {},
          "execution_count": 3
        }
      ]
    },
    {
      "cell_type": "code",
      "source": [
        "# Ejer 2: Crear dos matrices/arrays de valores ciertos y valores previstos, y calcular el mae.\n",
        "# ¿Qué valores deberían de tener el array pred para que el error fuese 0? ¿y para que error fuese de 0.33?\n",
        "y_true = [[1, -1], [-2, 2], [3, -3]]\n",
        "y_pred = [[-4, 4], [5, -5], [-6, 6]]\n",
        "mae = mean_absolute_error(y_true, y_pred)\n",
        "print(f\"y_true: {y_true}\\ny_pred: {y_pred}\\nmae: {mae}\")\n",
        "\n",
        "print(\"\\n----------- Error = 0 -----------\")\n",
        "y_true = [[1, -1], [-2, 2], [3, -3]]\n",
        "y_pred = [[1, -1], [-2, 2], [3, -3]]\n",
        "mae = mean_absolute_error(y_true, y_pred)\n",
        "print(f\"y_true: {y_true}\\ny_pred: {y_pred}\\nmae: {mae}\")\n",
        "\n",
        "print(\"\\n--------- Error = 0.33 ----------\")\n",
        "print(\"------------ Caso 1 -------------\")\n",
        "y_true = [[1, -1], [-2, 2], [3, -3]]\n",
        "y_pred = [[1, -1], [-2, 3], [3, -2]] # Se le sumó una unidad al segundo elemento del segundo y tercer vector\n",
        "mae = mean_absolute_error(y_true, y_pred)\n",
        "print(f\"y_true: {y_true}\\ny_pred: {y_pred}\\nmae: {mae}\")\n",
        "\n",
        "print(\"------------ Caso 2 -------------\")\n",
        "y_true = [[1, -1], [-2, 2], [3, -3]]\n",
        "y_pred = [[1, -1], [-2, 2], [2, -2]] # Se le resto y sumó una unidad a ambos elementos del tercer vector\n",
        "mae = mean_absolute_error(y_true, y_pred)\n",
        "print(f\"y_true: {y_true}\\ny_pred: {y_pred}\\nmae: {mae}\")\n",
        "\n",
        "print(\"------------ Caso 3 -------------\")\n",
        "y_true = [[1, -1], [-2, 2], [3, -3]]\n",
        "y_pred = [[-1, -1], [-2, 2], [3, -3]] # Se le restó dos unidades al primer elemento del primer vector\n",
        "mae = mean_absolute_error(y_true, y_pred)\n",
        "print(f\"y_true: {y_true}\\ny_pred: {y_pred}\\nmae: {mae}\")"
      ],
      "metadata": {
        "id": "LnPx6A4Astfq",
        "colab": {
          "base_uri": "https://localhost:8080/"
        },
        "outputId": "c26971f1-1e11-4131-aa8f-e88647b1aade"
      },
      "execution_count": null,
      "outputs": [
        {
          "output_type": "stream",
          "name": "stdout",
          "text": [
            "y_true: [[1, -1], [-2, 2], [3, -3]]\n",
            "y_pred: [[-4, 4], [5, -5], [-6, 6]]\n",
            "mae: 7.0\n",
            "\n",
            "----------- Error = 0 -----------\n",
            "y_true: [[1, -1], [-2, 2], [3, -3]]\n",
            "y_pred: [[1, -1], [-2, 2], [3, -3]]\n",
            "mae: 0.0\n",
            "\n",
            "--------- Error = 0.33 ----------\n",
            "------------ Caso 1 -------------\n",
            "y_true: [[1, -1], [-2, 2], [3, -3]]\n",
            "y_pred: [[1, -1], [-2, 3], [3, -2]]\n",
            "mae: 0.3333333333333333\n",
            "------------ Caso 2 -------------\n",
            "y_true: [[1, -1], [-2, 2], [3, -3]]\n",
            "y_pred: [[1, -1], [-2, 2], [2, -2]]\n",
            "mae: 0.3333333333333333\n",
            "------------ Caso 3 -------------\n",
            "y_true: [[1, -1], [-2, 2], [3, -3]]\n",
            "y_pred: [[-1, -1], [-2, 2], [3, -3]]\n",
            "mae: 0.3333333333333333\n"
          ]
        }
      ]
    },
    {
      "cell_type": "code",
      "source": [
        "# Error cuadrático medio - mse\n",
        "from sklearn.metrics import mean_squared_error\n",
        "y_true = [3, -0.5, 2, 7]\n",
        "y_pred = [2.5, 0.0, 2, 8]\n",
        "mean_squared_error(y_true, y_pred)\n"
      ],
      "metadata": {
        "colab": {
          "base_uri": "https://localhost:8080/"
        },
        "id": "59efr-GWgKP6",
        "outputId": "c5352757-6057-463c-d3f2-d7f0612e8105"
      },
      "execution_count": null,
      "outputs": [
        {
          "output_type": "execute_result",
          "data": {
            "text/plain": [
              "0.375"
            ]
          },
          "metadata": {},
          "execution_count": 2
        }
      ]
    },
    {
      "cell_type": "code",
      "source": [
        "# Ejer 3: Crear dos vectores/arrays de valores ciertos y valores previstos, y calcular el mse.\n",
        "# ¿Qué valores deberían de tener el array pred para que el error fuese 0? ¿y para que error fuese de 0.25?\n",
        "# Nota: Es muy interesante comparar los resultados al aplicaer mae y mse sobre el mismo conjunto de datos. Podrás obervar\n",
        "#       que mse \"penaliza más\" (es decir, el número que se obtiene es mayor) con las diferencias entre los valores originales y los predichos que mae\n",
        "y_true = [54, 26.3, -21, -11]\n",
        "y_pred = [2, 43, -2, -1]\n",
        "mae = mean_absolute_error(y_true, y_pred)\n",
        "mse = mean_squared_error(y_true, y_pred)\n",
        "print(f\"y_true: {y_true}\\ny_pred: {y_pred}\\nmae: {mae}\\nmse: {mse}\")\n",
        "\n",
        "print(\"\\n----------- Error = 0 -----------\")\n",
        "y_true = [54, 26.3, -21, -11]\n",
        "y_pred = [54, 26.3, -21, -11]\n",
        "mae = mean_absolute_error(y_true, y_pred)\n",
        "mse = mean_squared_error(y_true, y_pred)\n",
        "print(f\"y_true: {y_true}\\ny_pred: {y_pred}\\nmae: {mae}\\nmse: {mse}\")\n",
        "\n",
        "print(\"\\n--------- Error = 0.25 ----------\")\n",
        "print(\"------------ Caso 1 -------------\")\n",
        "y_true = [54, 26.3, -21, -11]\n",
        "y_pred = [54, 26.3, -21, -10] # Se modifica el último valor en una unidad\n",
        "mae = mean_absolute_error(y_true, y_pred)\n",
        "mse = mean_squared_error(y_true, y_pred)\n",
        "print(f\"y_true: {y_true}\\ny_pred: {y_pred}\\nmae: {mae}\\nmse: {mse}\")\n",
        "print(\"------------ Caso 2 -------------\")\n",
        "y_true = [54, 26.3, -21, -11]\n",
        "y_pred = [54, 26.3, -21.5, -10.5] # Se modifica el tercer y cuarto valor en media unidad\n",
        "mae = mean_absolute_error(y_true, y_pred)\n",
        "mse = mean_squared_error(y_true, y_pred)\n",
        "print(f\"y_true: {y_true}\\ny_pred: {y_pred}\\nmae: {mae}\\nmse: {mse}\")"
      ],
      "metadata": {
        "id": "FLZt6j17u7sE",
        "colab": {
          "base_uri": "https://localhost:8080/"
        },
        "outputId": "5f206ad1-00ae-4f95-c875-2cc31d38310f"
      },
      "execution_count": null,
      "outputs": [
        {
          "output_type": "stream",
          "name": "stdout",
          "text": [
            "y_true: [54, 26.3, -21, -11]\n",
            "y_pred: [2, 43, -2, -1]\n",
            "mae: 24.425\n",
            "mse: 860.9725\n",
            "\n",
            "----------- Error = 0 -----------\n",
            "y_true: [54, 26.3, -21, -11]\n",
            "y_pred: [54, 26.3, -21, -11]\n",
            "mae: 0.0\n",
            "mse: 0.0\n",
            "\n",
            "--------- Error = 0.25 ----------\n",
            "------------ Caso 1 -------------\n",
            "y_true: [54, 26.3, -21, -11]\n",
            "y_pred: [54, 26.3, -21, -10]\n",
            "mae: 0.25\n",
            "mse: 0.25\n",
            "------------ Caso 2 -------------\n",
            "y_true: [54, 26.3, -21, -11]\n",
            "y_pred: [54, 26.3, -21.5, -10.5]\n",
            "mae: 0.25\n",
            "mse: 0.125\n"
          ]
        }
      ]
    },
    {
      "cell_type": "code",
      "source": [
        "# Ejer 4: Crear dos matrices/arrays de valores ciertos y valores previstos, y calcular el mae.\n",
        "# ¿Qué valores deberían de tener el array pred para que el error fuese 0? ¿y para que error fuese de 0.33?\n",
        "y_true = [[12, -12], [-7, 7], [11.5, -9.2]]\n",
        "y_pred = [[-8.4, 8.23], [9, -13], [-10.1, 14.3]]\n",
        "mae = mean_absolute_error(y_true, y_pred)\n",
        "mse = mean_squared_error(y_true, y_pred)\n",
        "print(f\"y_true: {y_true}\\ny_pred: {y_pred}\\nmae: {mae}\\nmse: {mse}\")\n",
        "\n",
        "print(\"\\n----------- Error = 0 -----------\")\n",
        "y_true = [[12, -12], [-7, 7], [11.5, -9.2]]\n",
        "y_pred = [[12, -12], [-7, 7], [11.5, -9.2]]\n",
        "mae = mean_absolute_error(y_true, y_pred)\n",
        "mse = mean_squared_error(y_true, y_pred)\n",
        "print(f\"y_true: {y_true}\\ny_pred: {y_pred}\\nmae: {mae}\\nmse: {mse}\")\n",
        "\n",
        "print(\"\\n--------- Error = 0.33 ----------\")\n",
        "print(\"------------ Caso 1 -------------\")\n",
        "y_true = [[12, -12], [-7, 7], [11.5, -9.2]]\n",
        "y_pred = [[12, -12], [-7, 7], [10.5, -10.2]] # Se le restó una unidad a ambos elementos del tercer vector\n",
        "mae = mean_absolute_error(y_true, y_pred)\n",
        "mse = mean_squared_error(y_true, y_pred)\n",
        "print(f\"y_true: {y_true}\\ny_pred: {y_pred}\\nmae: {mae}\\nmse: {mse}\")\n",
        "print(\"------------ Caso 2 -------------\")\n",
        "y_true = [[12, -12], [-7, 7], [11.5, -9.2]]\n",
        "y_pred = [[12, -12], [-7, 5], [11.5, -9.2]] # Se le restaron dos unidades al segundo elemento del segundo vector\n",
        "mae = mean_absolute_error(y_true, y_pred)\n",
        "mse = mean_squared_error(y_true, y_pred)\n",
        "print(f\"y_true: {y_true}\\ny_pred: {y_pred}\\nmae: {mae}\\nmse: {mse}\")"
      ],
      "metadata": {
        "id": "M9nZd4nLvIRB",
        "colab": {
          "base_uri": "https://localhost:8080/"
        },
        "outputId": "51886b0b-d456-4fe7-a1ff-bd5eb8c2af1a"
      },
      "execution_count": null,
      "outputs": [
        {
          "output_type": "stream",
          "name": "stdout",
          "text": [
            "y_true: [[12, -12], [-7, 7], [11.5, -9.2]]\n",
            "y_pred: [[-8.4, 8.23], [9, -13], [-10.1, 14.3]]\n",
            "mae: 20.288333333333334\n",
            "mse: 416.7038166666666\n",
            "\n",
            "----------- Error = 0 -----------\n",
            "y_true: [[12, -12], [-7, 7], [11.5, -9.2]]\n",
            "y_pred: [[12, -12], [-7, 7], [11.5, -9.2]]\n",
            "mae: 0.0\n",
            "mse: 0.0\n",
            "\n",
            "--------- Error = 0.33 ----------\n",
            "------------ Caso 1 -------------\n",
            "y_true: [[12, -12], [-7, 7], [11.5, -9.2]]\n",
            "y_pred: [[12, -12], [-7, 7], [10.5, -10.2]]\n",
            "mae: 0.3333333333333333\n",
            "mse: 0.3333333333333333\n",
            "------------ Caso 2 -------------\n",
            "y_true: [[12, -12], [-7, 7], [11.5, -9.2]]\n",
            "y_pred: [[12, -12], [-7, 5], [11.5, -9.2]]\n",
            "mae: 0.3333333333333333\n",
            "mse: 0.6666666666666666\n"
          ]
        }
      ]
    },
    {
      "cell_type": "code",
      "source": [
        "# Error de porcentaje absoluto medio - mape\n",
        "from sklearn.metrics import mean_absolute_percentage_error\n",
        "y_true = [3, -0.5, 2, 7]\n",
        "y_pred = [2.5, 0.0, 2, 8]\n",
        "mean_absolute_percentage_error(y_true, y_pred)"
      ],
      "metadata": {
        "colab": {
          "base_uri": "https://localhost:8080/"
        },
        "id": "0j3DDJPnBTmF",
        "outputId": "2eb4a3dc-fd52-4529-80ff-4f851a44db69"
      },
      "execution_count": null,
      "outputs": [
        {
          "output_type": "execute_result",
          "data": {
            "text/plain": [
              "0.3273809523809524"
            ]
          },
          "metadata": {},
          "execution_count": 7
        }
      ]
    },
    {
      "cell_type": "code",
      "source": [
        "# Ejer 5: Crear dos vectores/arrays de valores ciertos y valores previstos, y calcular el mape.\n",
        "# ¿Qué valores deberían de tener el array pred para que el error fuese 0?\n",
        "y_true = [-40, -30, -20, -10]\n",
        "y_pred = [10, 20, 30, 40]\n",
        "mape = mean_absolute_percentage_error(y_true, y_pred)\n",
        "print(f\"y_true: {y_true}\\ny_pred: {y_pred}\\nmape: {mape}\")\n",
        "\n",
        "print(\"\\n----------- Error = 0 -----------\")\n",
        "y_true = [-40, -30, -20, -10]\n",
        "y_pred = [-40, -30, -20, -10]\n",
        "mape = mean_absolute_percentage_error(y_true, y_pred)\n",
        "print(f\"y_true: {y_true}\\ny_pred: {y_pred}\\nmape: {mape}\")"
      ],
      "metadata": {
        "id": "0vsYXdRqB0TE",
        "colab": {
          "base_uri": "https://localhost:8080/"
        },
        "outputId": "4713153b-ee60-40c0-a1d8-5aa96d5a48ac"
      },
      "execution_count": null,
      "outputs": [
        {
          "output_type": "stream",
          "name": "stdout",
          "text": [
            "y_true: [-40, -30, -20, -10]\n",
            "y_pred: [10, 20, 30, 40]\n",
            "mape: 2.604166666666667\n",
            "\n",
            "----------- Error = 0 -----------\n",
            "y_true: [-40, -30, -20, -10]\n",
            "y_pred: [-40, -30, -20, -10]\n",
            "mape: 0.0\n"
          ]
        }
      ]
    },
    {
      "cell_type": "code",
      "source": [
        "# Ejer 6: Crear dos matrices/arrays de valores ciertos y valores previstos, y calcular el MAPE.\n",
        "# ¿Qué valores deberían de tener el array pred para que el error fuese 0?\n",
        "y_true = [[-4.3, 8.2], [-2, -1], [-12, 56.4]]\n",
        "y_pred = [[77, 88], [99, 111], [-222, -333]]\n",
        "mape = mean_absolute_percentage_error(y_true, y_pred)\n",
        "print(f\"y_true: {y_true}\\ny_pred: {y_pred}\\nmape: {mape}\")\n",
        "\n",
        "print(\"\\n----------- Error = 0 -----------\")\n",
        "y_true = [[-4.3, 8.2], [-2, -1], [-12, 56.4]]\n",
        "y_pred = [[-4.3, 8.2], [-2, -1], [-12, 56.4]]\n",
        "mape = mean_absolute_percentage_error(y_true, y_pred)\n",
        "print(f\"y_true: {y_true}\\ny_pred: {y_pred}\\nmape: {mape}\")"
      ],
      "metadata": {
        "id": "085pmFVO-cA3",
        "colab": {
          "base_uri": "https://localhost:8080/"
        },
        "outputId": "4d74ca73-bf99-4915-9d50-f550bd6130d4"
      },
      "execution_count": null,
      "outputs": [
        {
          "output_type": "stream",
          "name": "stdout",
          "text": [
            "y_true: [[-4.3, 8.2], [-2, -1], [-12, 56.4]]\n",
            "y_pred: [[77, 88], [99, 111], [-222, -333]]\n",
            "mape: 35.923823230068024\n",
            "\n",
            "----------- Error = 0 -----------\n",
            "y_true: [[-4.3, 8.2], [-2, -1], [-12, 56.4]]\n",
            "y_pred: [[-4.3, 8.2], [-2, -1], [-12, 56.4]]\n",
            "mape: 0.0\n"
          ]
        }
      ]
    }
  ]
}